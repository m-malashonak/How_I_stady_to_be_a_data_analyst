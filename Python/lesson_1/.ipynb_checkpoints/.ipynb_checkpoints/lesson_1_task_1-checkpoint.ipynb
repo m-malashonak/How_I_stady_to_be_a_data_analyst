{
 "cells": [
  {
   "cell_type": "code",
   "execution_count": null,
   "id": "258a7bf9-a935-42e1-9d3c-a2af9c1a4096",
   "metadata": {},
   "outputs": [],
   "source": [
    "#сохранитm в переменную age произвольный возраст,\n",
    "#выраженный целым числом, а в переменную name – какое-нибудь имя в виде строки.\n",
    "#(автор https://karpov.courses/analytics)"
   ]
  },
  {
   "cell_type": "code",
   "execution_count": 1,
   "id": "ccd04133-415c-4c20-b637-585e80824f3b",
   "metadata": {},
   "outputs": [],
   "source": [
    "age = 9\n",
    "name = 'Vera'"
   ]
  },
  {
   "cell_type": "code",
   "execution_count": 3,
   "id": "88089153-d6b5-407c-a5f4-434d0e8efa21",
   "metadata": {},
   "outputs": [
    {
     "name": "stdout",
     "output_type": "stream",
     "text": [
      "Vera is 9 years old\n"
     ]
    }
   ],
   "source": [
    "print (f\"{name} is {age} years old\")"
   ]
  }
 ],
 "metadata": {
  "kernelspec": {
   "display_name": "Python 3 (ipykernel)",
   "language": "python",
   "name": "python3"
  },
  "language_info": {
   "codemirror_mode": {
    "name": "ipython",
    "version": 3
   },
   "file_extension": ".py",
   "mimetype": "text/x-python",
   "name": "python",
   "nbconvert_exporter": "python",
   "pygments_lexer": "ipython3",
   "version": "3.12.3"
  }
 },
 "nbformat": 4,
 "nbformat_minor": 5
}
