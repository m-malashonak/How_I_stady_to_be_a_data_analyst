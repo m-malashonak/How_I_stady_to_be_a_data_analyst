{
 "cells": [
  {
   "cell_type": "code",
   "execution_count": 1,
   "id": "b1aabe8a-f225-431f-b6c8-32833f10d940",
   "metadata": {},
   "outputs": [],
   "source": [
    "#Создать список user_info, содержащий 4 элемента в следующем порядке:\n",
    "# - 2 строки (имя и фамилия пользователя);\n",
    "# - 1 дробное число (зарплата);\n",
    "# - 1 целое число (стаж).\n",
    "\n",
    "#(автор https://karpov.courses/analytics)"
   ]
  },
  {
   "cell_type": "code",
   "execution_count": 1,
   "id": "65075a6c-6795-4f2c-bc06-a40277989aeb",
   "metadata": {},
   "outputs": [],
   "source": [
    "user_info = ['Lucas', 'Muller', 3500.0, 10]"
   ]
  },
  {
   "cell_type": "code",
   "execution_count": 13,
   "id": "b46f3f02-1721-4857-898f-9d155722fec6",
   "metadata": {},
   "outputs": [
    {
     "name": "stdout",
     "output_type": "stream",
     "text": [
      "<class 'str'>\n",
      "<class 'str'>\n",
      "<class 'float'>\n",
      "<class 'int'>\n"
     ]
    }
   ],
   "source": [
    "for item in user_info:\n",
    "    print (type(item))"
   ]
  }
 ],
 "metadata": {
  "kernelspec": {
   "display_name": "Python 3 (ipykernel)",
   "language": "python",
   "name": "python3"
  },
  "language_info": {
   "codemirror_mode": {
    "name": "ipython",
    "version": 3
   },
   "file_extension": ".py",
   "mimetype": "text/x-python",
   "name": "python",
   "nbconvert_exporter": "python",
   "pygments_lexer": "ipython3",
   "version": "3.12.3"
  }
 },
 "nbformat": 4,
 "nbformat_minor": 5
}
